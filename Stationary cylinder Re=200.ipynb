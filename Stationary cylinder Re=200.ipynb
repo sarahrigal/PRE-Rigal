{
 "cells": [
  {
   "cell_type": "markdown",
   "metadata": {},
   "source": [
    "Including libraries and scripts"
   ]
  },
  {
   "cell_type": "code",
   "execution_count": null,
   "metadata": {
    "collapsed": true
   },
   "outputs": [],
   "source": [
    "%matplotlib inline\n",
    "import nbimport\n",
    "import numpy as np\n",
    "import matplotlib.pyplot as plt\n",
    "import scipy.linalg as la\n",
    "import scipy.sparse.linalg as spla\n",
    "np.set_printoptions(linewidth=130)"
   ]
  },
  {
   "cell_type": "code",
   "execution_count": null,
   "metadata": {
    "collapsed": false
   },
   "outputs": [],
   "source": [
    "from fsmfuncs import *\n",
    "from ibmfuncs import *\n",
    "from gridfuncs import *"
   ]
  },
  {
   "cell_type": "markdown",
   "metadata": {},
   "source": [
    "Numerical grid for the fluid"
   ]
  },
  {
   "cell_type": "code",
   "execution_count": null,
   "metadata": {
    "collapsed": false
   },
   "outputs": [],
   "source": [
    "s1 = stretching(256, 0.033, 0.20, int(0.65/0.033), 16, 16, 0.04)[0]\n",
    "s2 = stretching(128, 0.033, 0.20, int(0.65/0.033), 16, 16, 0.04)[0]\n",
    "x = np.concatenate([-s2[::-1], s1[1:]])\n",
    "s = stretching(192, 0.033, 0.20, int(0.65/0.033), 16, 16, 0.04)[0]\n",
    "y = np.concatenate([-s[::-1], s[1:]])\n",
    "\n",
    "n, m = len(y)-1, len(x)-1\n",
    "\n",
    "dy, dx = np.diff(y), np.diff(x)\n",
    "dxmin = min(np.min(dx), np.min(dy))\n",
    "\n",
    "# Pressure\n",
    "yp, xp = 0.5*(y[1:] + y[:-1]), 0.5*(x[1:] + x[:-1])\n",
    "dyp, dxp = np.diff(yp), np.diff(xp)\n",
    "p = np.zeros( (n, m) )\n",
    "\n",
    "# Horizontal velocity\n",
    "yu, xu = yp, x[1:-1]\n",
    "u = np.zeros( (n, m-1) )\n",
    "\n",
    "# Vertical velocity\n",
    "yv, xv = y[1:-1], xp\n",
    "v = np.zeros( (n-1, m) )"
   ]
  },
  {
   "cell_type": "markdown",
   "metadata": {},
   "source": [
    "Immersed boundary"
   ]
  },
  {
   "cell_type": "code",
   "execution_count": null,
   "metadata": {
    "collapsed": false
   },
   "outputs": [],
   "source": [
    "r_ = 0.5\n",
    "l = int((2*np.pi*r_)/dxmin)\n",
    "ang_ = 2*np.pi*np.arange(l)/l\n",
    "\n",
    "# Coordinates\n",
    "xi = 0 + r_*np.cos(ang_)\n",
    "eta = 0 + r_*np.sin(ang_)\n",
    "\n",
    "ds = 2*np.pi*r_/l*np.ones(l)\n",
    "\n",
    "# Velocity\n",
    "uB = np.zeros_like(xi)\n",
    "vB = np.zeros_like(xi)"
   ]
  },
  {
   "cell_type": "markdown",
   "metadata": {},
   "source": [
    "Plot grid and immersed boundary"
   ]
  },
  {
   "cell_type": "code",
   "execution_count": null,
   "metadata": {
    "collapsed": false,
    "scrolled": false
   },
   "outputs": [],
   "source": [
    "plt.figure(figsize=(8,8))\n",
    "X, Y = np.meshgrid(x, y)\n",
    "plt.plot(X, Y, 'b-');\n",
    "plt.plot(X.T, Y.T, 'b-');\n",
    "plt.plot(xi, eta, 'ro-');\n",
    "plt.axis('equal')"
   ]
  },
  {
   "cell_type": "markdown",
   "metadata": {},
   "source": [
    "Boundary conditions + initial flow "
   ]
  },
  {
   "cell_type": "code",
   "execution_count": null,
   "metadata": {
    "collapsed": true
   },
   "outputs": [],
   "source": [
    "uS, uN = np.ones(m-1), np.ones(m-1)\n",
    "uE, uW = np.ones(n), np.ones(n)\n",
    "\n",
    "vS, vN = np.zeros(m), np.zeros(m)\n",
    "vE, vW = np.zeros(n-1), np.zeros(n-1)\n",
    "\n",
    "u[:,:]=1\n",
    "v[:,:]=0"
   ]
  },
  {
   "cell_type": "markdown",
   "metadata": {},
   "source": [
    "Build matrices (I)"
   ]
  },
  {
   "cell_type": "code",
   "execution_count": null,
   "metadata": {
    "collapsed": false
   },
   "outputs": [],
   "source": [
    "G, DuW, DuE, DvS, DvN = gradient(dxp, dyp)\n",
    "R, iR = weight (dx, dy)\n",
    "Mh, iMh = mass_hat (dxp, dyp)\n",
    "Lh, Lux0, Lux1, Luy0, Luy1, Lvx0, Lvx1, Lvy0, Lvy1 = laplacian_hat(dx, dy, dxp, dyp)\n",
    "Eh = interpolation_hat(xi, eta, ds, x, y, xp, yp, dx, dy, dxp, dyp)\n",
    "Hh = regularization_hat(xi, eta, ds, x, y, xp, yp, dx, dy, dxp, dyp)\n",
    "\n",
    "E = Eh.dot(iR)\n",
    "H = Mh.dot(Hh)\n",
    "\n",
    "L = Mh.dot(Lh.dot(iR))\n",
    "\n",
    "M = Mh.dot(iR)\n",
    "iM = R.dot(iMh)\n",
    "\n",
    "EET = E.dot(E.T)\n",
    "EH = E.dot(H).tocsc()\n",
    "iEH = spla.factorized(EH)\n",
    "\n",
    "iML = iM.dot(L)\n",
    "Q = sp.hstack([G, E.T])"
   ]
  },
  {
   "cell_type": "markdown",
   "metadata": {
    "collapsed": true
   },
   "source": [
    "Build matrices (II)"
   ]
  },
  {
   "cell_type": "code",
   "execution_count": null,
   "metadata": {
    "collapsed": false
   },
   "outputs": [],
   "source": [
    "#Reynolds number\n",
    "iRe = 1/200.0\n",
    "\n",
    "#Time step\n",
    "dt = 0.30 * min(dxmin**2/iRe, dxmin)\n",
    "\n",
    "print(dt, dxmin**2/iRe, dxmin)"
   ]
  },
  {
   "cell_type": "code",
   "execution_count": null,
   "metadata": {
    "collapsed": false
   },
   "outputs": [],
   "source": [
    "A = (M/dt - 0.5*iRe*L).tocsc()\n",
    "B = (M/dt + 0.5*iRe*L).tocsr()\n",
    "\n",
    "#Factorization step\n",
    "iA = spla.factorized(A)\n",
    "\n",
    "BN = dt*iM + (0.5*iRe)*dt**2*iML.dot(iM) + (0.5*iRe)**2*dt**3*iML.dot(iML.dot(iM))\n",
    "QTBNQ = Q.T.dot(BN.dot(Q)).tocsc()\n",
    "iQTBNQ = spla.factorized(QTBNQ)"
   ]
  },
  {
   "cell_type": "code",
   "execution_count": null,
   "metadata": {
    "collapsed": true
   },
   "outputs": [],
   "source": [
    "#Velocity flux\n",
    "q = R.dot(np.concatenate([u.ravel(), v.ravel()]))\n",
    "qast = q.copy()\n",
    "\n",
    "Num1, Nvm1 = advection_hat(dx, dy, dxp, dyp, iR.dot(q),  uS, uN, uW, uE, vS, vN, vW, vE)\n",
    "Nu, Nv = Num1, Nvm1"
   ]
  },
  {
   "cell_type": "markdown",
   "metadata": {},
   "source": [
    "Time loop "
   ]
  },
  {
   "cell_type": "code",
   "execution_count": null,
   "metadata": {
    "collapsed": false
   },
   "outputs": [],
   "source": [
    "nt = int(100/dt)\n",
    "print(\"Performing\", nt, \"steps\")\n",
    "\n",
    "residuals = np.zeros(nt)\n",
    "\n",
    "# Drag and lift coefficients\n",
    "CFx = np.zeros(nt)\n",
    "CFy = np.zeros(nt)\n",
    "\n",
    "for k in range(nt):    \n",
    "    ru = iRe*(Lux0.dot(uW) + Lux1.dot(uE) + Luy0.dot(uS) + Luy1.dot(uN)) - 1.5*Nu + 0.5*Num1\n",
    "    rv = iRe*(Lvx0.dot(vW) + Lvx1.dot(vE) + Lvy0.dot(vS) + Lvy1.dot(vN)) - 1.5*Nv + 0.5*Nvm1\n",
    "    \n",
    "    bc1 = Mh.dot(np.concatenate([ru, rv]))\n",
    "    r1 = B.dot(q.ravel()) + bc1\n",
    "    \n",
    "    # Resolution of the first equation\n",
    "    qast = iA(r1)\n",
    "    \n",
    "    bc2 = - (DuW.dot(uW*dy) + DuE.dot(uE*dy) + DvS.dot(vS*dx) + DvN.dot(vN*dx))\n",
    "    r2 = np.concatenate([-bc2, uB, vB])\n",
    "    \n",
    "    # Resolution of the second equation\n",
    "    λ = iQTBNQ(Q.T.dot(qast) - r2)\n",
    "\n",
    "    # Projection step\n",
    "    qp1 = qast - BN.dot(Q.dot(λ))\n",
    "    \n",
    "    # Residuals\n",
    "    residuals[k] = la.norm(qp1-q)/(dt*la.norm(qp1))\n",
    "    \n",
    "    # Forcing term \n",
    "    F = iMh.dot(E.T.dot(λ[n*m:]))\n",
    "    Fx, Fy = F[:n*(m-1)].reshape((n, m-1)), F[n*(m-1):].reshape((n-1,m))\n",
    "    CFx[k] = 2*np.sum(Fx*dxp[np.newaxis,:]*dy[:,np.newaxis])\n",
    "    CFy[k] = 2*np.sum(Fy*dx[np.newaxis,:]*dyp[:,np.newaxis])    \n",
    "    \n",
    "    if k%100==0:\n",
    "        print(k, k*dt, residuals[k], CFx[k], CFy[k])\n",
    "    \n",
    "    q = qp1\n",
    "    uE = uE - dt/dx[-1]*(uE - iR.dot(q)[:n*(m-1)].reshape((n, m-1))[:,-1])\n",
    "    \n",
    "    Num1, Nvm1 = Nu, Nv\n",
    "    Nu, Nv = advection_hat(dx, dy, dxp, dyp, iR.dot(q), uS, uN, uW, uE, vS, vN, vW, vE)\n"
   ]
  },
  {
   "cell_type": "markdown",
   "metadata": {},
   "source": [
    "Velocity, pressure, vorticity and forcing term"
   ]
  },
  {
   "cell_type": "code",
   "execution_count": null,
   "metadata": {
    "collapsed": false
   },
   "outputs": [],
   "source": [
    "iRq = iR.dot(q)\n",
    "u, v = iRq[:n*(m-1)].reshape((n, m-1)), iRq[n*(m-1):].reshape((n-1, m))\n",
    "p = λ[:n*m].reshape((n,m))\n",
    "f = λ[n*m:]\n",
    "w = np.diff(v,axis=1)/dxp[np.newaxis,:]-np.diff(u,axis=0)/dyp[:,np.newaxis]"
   ]
  },
  {
   "cell_type": "markdown",
   "metadata": {},
   "source": [
    "Display solution"
   ]
  },
  {
   "cell_type": "code",
   "execution_count": null,
   "metadata": {
    "collapsed": false
   },
   "outputs": [],
   "source": [
    "# Ploting velocity\n",
    "x0, x1 = -2, 7\n",
    "y0, y1 = -4.5, 4.5\n",
    "plt.figure(figsize=(5.5*3,4))\n",
    "plt.subplot(1,3,1)\n",
    "plt.pcolormesh(xu, yu, u, shading='gouraud')\n",
    "plt.plot(xi, eta, lw=1)\n",
    "plt.xlim(x0, x1)\n",
    "plt.ylim(y0, y1)\n",
    "plt.colorbar()\n",
    "\n",
    "plt.subplot(1,3,2)\n",
    "plt.pcolormesh(xv, yv, v, shading='gouraud')\n",
    "plt.plot(xi, eta, lw=1)\n",
    "plt.xlim(x0, x1)\n",
    "plt.ylim(y0, y1)\n",
    "plt.colorbar()\n",
    "\n",
    "# Ploting pressure\n",
    "plt.subplot(1,3,3)\n",
    "plt.pcolormesh(xp, yp, p, shading='gouraud')\n",
    "plt.plot(xi, eta, lw=1)\n",
    "plt.xlim(x0, x1)\n",
    "plt.ylim(y0, y1)\n",
    "plt.colorbar()"
   ]
  },
  {
   "cell_type": "code",
   "execution_count": null,
   "metadata": {
    "collapsed": true
   },
   "outputs": [],
   "source": [
    "# Ploting vorticity\n",
    "plt.figure(figsize=(5.5,4))\n",
    "plt.pcolormesh(xu, yv, w, shading='gouraud')\n",
    "plt.plot(xi, eta, lw=1)\n",
    "plt.xlim(x0, x1)\n",
    "plt.ylim(y0, y1)\n",
    "plt.colorbar()"
   ]
  },
  {
   "cell_type": "code",
   "execution_count": null,
   "metadata": {
    "collapsed": false
   },
   "outputs": [],
   "source": [
    "#Ploting drag coefficient\n",
    "plt.plot(np.arange(len(CFy))*dt, CFx)\n",
    "plt.xlim(0, 100)\n",
    "plt.ylim(0.8, 1.40)\n",
    "plt.xlabel('t')\n",
    "plt.ylabel('C_l')"
   ]
  },
  {
   "cell_type": "code",
   "execution_count": null,
   "metadata": {
    "collapsed": true
   },
   "outputs": [],
   "source": []
  }
 ],
 "metadata": {
  "kernelspec": {
   "display_name": "Python 3",
   "language": "python",
   "name": "python3"
  },
  "language_info": {
   "codemirror_mode": {
    "name": "ipython",
    "version": 3
   },
   "file_extension": ".py",
   "mimetype": "text/x-python",
   "name": "python",
   "nbconvert_exporter": "python",
   "pygments_lexer": "ipython3",
   "version": "3.5.1"
  }
 },
 "nbformat": 4,
 "nbformat_minor": 0
}
