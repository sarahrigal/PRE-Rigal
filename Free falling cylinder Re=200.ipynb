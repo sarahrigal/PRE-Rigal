{
 "cells": [
  {
   "cell_type": "markdown",
   "metadata": {},
   "source": [
    "Including libraries and scripts"
   ]
  },
  {
   "cell_type": "code",
   "execution_count": 13,
   "metadata": {
    "collapsed": false
   },
   "outputs": [],
   "source": [
    "%matplotlib inline\n",
    "import nbimport\n",
    "import numpy as np\n",
    "import scipy.sparse as spa\n",
    "import matplotlib.pyplot as plt\n",
    "import scipy.linalg as la\n",
    "import scipy.sparse.linalg as spla\n",
    "import numpy.linalg as npl\n",
    "from pyamg import smoothed_aggregation_solver, rootnode_solver\n",
    "np.set_printoptions(linewidth=130)"
   ]
  },
  {
   "cell_type": "code",
   "execution_count": 14,
   "metadata": {
    "collapsed": false
   },
   "outputs": [],
   "source": [
    "from fsmfuncs import *\n",
    "from ibmfuncs import *\n",
    "from gridfuncs import *"
   ]
  },
  {
   "cell_type": "markdown",
   "metadata": {},
   "source": [
    "Numerical grid for the fluid"
   ]
  },
  {
   "cell_type": "code",
   "execution_count": 15,
   "metadata": {
    "collapsed": false
   },
   "outputs": [],
   "source": [
    "x = np.linspace(-5,5,250)\n",
    "y = np.linspace(-50,50,2500)\n",
    "\n",
    "n, m = len(y)-1, len(x)-1\n",
    "\n",
    "dy, dx = np.diff(y), np.diff(x)\n",
    "dxmin = min(np.min(dx), np.min(dy)) \n",
    "\n",
    "# Pressure\n",
    "yp, xp = 0.5*(y[1:] + y[:-1]), 0.5*(x[1:] + x[:-1]) \n",
    "dyp, dxp = np.diff(yp), np.diff(xp)\n",
    "p = np.zeros( (n, m) )\n",
    "\n",
    "# Horizontal velocity\n",
    "yu, xu = yp, x[1:-1]\n",
    "u = np.zeros( (n, m-1) )\n",
    "\n",
    "# Vertical velocity\n",
    "yv, xv = y[1:-1], xp\n",
    "v = np.zeros( (n-1, m) )"
   ]
  },
  {
   "cell_type": "markdown",
   "metadata": {},
   "source": [
    "Immersed boundary"
   ]
  },
  {
   "cell_type": "code",
   "execution_count": 16,
   "metadata": {
    "collapsed": false
   },
   "outputs": [],
   "source": [
    "r_ = 0.5\n",
    "l = int((2*np.pi*r_)/dxmin) \n",
    "ang_ = 2*np.pi*np.arange(l)/l \n",
    "\n",
    "# Coordinates\n",
    "xi = 0 + r_*np.cos(ang_)\n",
    "eta = 40 + r_*np.sin(ang_)\n",
    "\n",
    "ds = 2*np.pi*r_/l*np.ones(l) # r/l équivalent de sin teta donc de l'angle teta, ds est le pas sur la frontière\n",
    "\n",
    "# Velocity\n",
    "UB = np.zeros(2)\n",
    "UBm1 = np.zeros(2)\n",
    "\n",
    "# Number of lagrangian points\n",
    "nB= len(xi)\n"
   ]
  },
  {
   "cell_type": "markdown",
   "metadata": {},
   "source": [
    "Plot grid and immersed boundary"
   ]
  },
  {
   "cell_type": "code",
   "execution_count": null,
   "metadata": {
    "collapsed": true
   },
   "outputs": [],
   "source": [
    "plt.figure(figsize=(8,8))\n",
    "X, Y = np.meshgrid(x, y) \n",
    "plt.plot(X, Y, 'b-');\n",
    "plt.plot(X.T, Y.T, 'b-'); \n",
    "plt.plot(xi, eta, 'ro-'); \n",
    "plt.axis('equal')"
   ]
  },
  {
   "cell_type": "markdown",
   "metadata": {},
   "source": [
    "Build matrices (I)"
   ]
  },
  {
   "cell_type": "code",
   "execution_count": 19,
   "metadata": {
    "collapsed": false
   },
   "outputs": [],
   "source": [
    "G, DuW, DuE, DvS, DvN = gradient(dxp, dyp)\n",
    "R, iR = weight (dx, dy)\n",
    "Mh, iMh = mass_hat (dxp, dyp)\n",
    "Lh, Lux0, Lux1, Luy0, Luy1, Lvx0, Lvx1, Lvy0, Lvy1 = laplacian_hat(dx, dy, dxp, dyp)\n",
    "\n",
    "L = Mh.dot(Lh.dot(iR))\n",
    "\n",
    "M = Mh.dot(iR)\n",
    "iM = R.dot(iMh)\n",
    "\n",
    "iML = iM.dot(L)"
   ]
  },
  {
   "cell_type": "code",
   "execution_count": null,
   "metadata": {
    "collapsed": true
   },
   "outputs": [],
   "source": [
    "# Reynolds number\n",
    "iRe = 1/200.0\n",
    "\n",
    "# Time step\n",
    "dt = 0.4* min(dxmin**2/iRe, dxmin) \n",
    "\n",
    "print(dt, dxmin**2/iRe, dxmin)"
   ]
  },
  {
   "cell_type": "markdown",
   "metadata": {
    "collapsed": true
   },
   "source": [
    "Build matrices (II)"
   ]
  },
  {
   "cell_type": "code",
   "execution_count": 21,
   "metadata": {
    "collapsed": false
   },
   "outputs": [],
   "source": [
    "A = (M/dt - 0.5*iRe*L).tocsr() \n",
    "B = (M/dt + 0.5*iRe*L).tocsr()\n",
    "\n",
    "BN = dt*iM + (0.5*iRe)*dt**2*iML.dot(iM) + (0.5*iRe)**2*dt**3*iML.dot(iML.dot(iM))"
   ]
  },
  {
   "cell_type": "code",
   "execution_count": 22,
   "metadata": {
    "collapsed": true
   },
   "outputs": [],
   "source": [
    "# Velocity flux\n",
    "q = R.dot(np.concatenate([u.ravel(), v.ravel()])) \n",
    "qast = q.copy()\n",
    "\n",
    "UBast = UB.copy()\n",
    "\n",
    "Num1, Nvm1 = advection_hat(dx, dy, dxp, dyp, iR.dot(q),  uS, uN, uW, uE, vS, vN, vW, vE)\n",
    "Nu, Nv = Num1, Nvm1\n",
    "\n",
    "GTBNG = G.T.dot(BN.dot(G))"
   ]
  },
  {
   "cell_type": "markdown",
   "metadata": {},
   "source": [
    "Dimensionless parameters"
   ]
  },
  {
   "cell_type": "code",
   "execution_count": null,
   "metadata": {
    "collapsed": true
   },
   "outputs": [],
   "source": [
    "# Density ratio\n",
    "rho = 2 \n",
    "# Gravity\n",
    "g = 0.5\n",
    "# Volume\n",
    "Vs = np.pi/4"
   ]
  },
  {
   "cell_type": "markdown",
   "metadata": {},
   "source": [
    "Build matrices (III)"
   ]
  },
  {
   "cell_type": "code",
   "execution_count": null,
   "metadata": {
    "collapsed": false
   },
   "outputs": [],
   "source": [
    "IB = (rho/dt)*Vs*np.eye(2,2)\n",
    "iIB = dt/(Vs*rho)*np.eye(2,2)\n",
    "NB = - np.ones((2,2*nB))\n",
    "NB[0,nB:]=np.zeros(nB)\n",
    "NB[1,:nB]=np.zeros(nB)\n",
    "    \n",
    "GB=np.zeros(2)\n",
    "GB[1]= Vs*(1-rho)*g\n"
   ]
  },
  {
   "cell_type": "markdown",
   "metadata": {},
   "source": [
    "Time loop"
   ]
  },
  {
   "cell_type": "code",
   "execution_count": null,
   "metadata": {
    "collapsed": true
   },
   "outputs": [],
   "source": [
    "nt = int(50/dt)\n",
    "print(\"Performing\", nt, \"steps\")\n",
    "\n",
    "residuals = np.zeros(nt)\n",
    "\n",
    "# Drag and lift coefficients\n",
    "CFx = np.zeros(nt)\n",
    "CFy = np.zeros(nt)\n",
    "\n",
    "# Vertical velocity of the cylinder\n",
    "Vc = np.zeros(nt)\n",
    "\n",
    "# Vertical position of the cylinder\n",
    "Yc = np.zeros(nt)\n",
    "\n",
    "for k in range(nt):   \n",
    "    \n",
    "    # Computing the regularization and the interpolation operators\n",
    "    Eh = interpolation_hat(xi, eta, ds, x, y, xp, yp, dx, dy, dxp, dyp)\n",
    "    Hh = regularization_hat(xi, eta, ds, x, y, xp, yp, dx, dy, dxp, dyp)\n",
    "\n",
    "    E = Eh.dot(iR)\n",
    "    H = Mh.dot(Hh)\n",
    "    \n",
    "    dQ = (Vs/dt)*(UB-UBm1)\n",
    "\n",
    "    UBast[0]= UB[0]+dt/(rho*Vs)*(dQ[0]+GB[0])\n",
    "    UBast[1]= UB[1]+dt/(rho*Vs)*(dQ[1]+GB[1])\n",
    "    \n",
    "    ru = iRe*(Lux0.dot(uW) + Lux1.dot(uE) + Luy0.dot(uS) + Luy1.dot(uN)) - 1.5*Nu + 0.5*Num1\n",
    "    rv = iRe*(Lvx0.dot(vW) + Lvx1.dot(vE) + Lvy0.dot(vS) + Lvy1.dot(vN)) - 1.5*Nv + 0.5*Nvm1 - g\n",
    "    \n",
    "    bc1 = Mh.dot(np.concatenate([ru, rv]))\n",
    "    r1 = B.dot(q.ravel()) + bc1\n",
    "   \n",
    "    # Solving the first linear equation\n",
    "    mls = smoothed_aggregation_solver(A)\n",
    "    accelerated_residuals = []\n",
    "    qast= mls.solve( r1, tol=1e-8, accel='cg', residuals=accelerated_residuals)\n",
    "    \n",
    "    bc2 = - (DuW.dot(uW*dy) + DuE.dot(uE*dy) + DvS.dot(vS*dx) + DvN.dot(vN*dx))\n",
    "   \n",
    "    GTBNET = G.T.dot(BN.dot(E.T))\n",
    "    EBNG = E.dot(BN.dot(G))\n",
    "    X = E.dot(BN.dot(E.T)) + NB.T.dot(iIB.dot(NB))\n",
    "    \n",
    "    e = spa.hstack((GTBNG,GTBNET))\n",
    "    j = spa.hstack((EBNG,X))\n",
    "    Q = spa.vstack((e,j)).tocsr()\n",
    "    \n",
    "    a = np.concatenate((G.T.dot(qast.ravel())+bc2, E.dot(qast.ravel())+ NB.T.dot(UBast)))\n",
    "    \n",
    "    # Solving the second linear equation\n",
    "    mls1 = smoothed_aggregation_solver(Q)\n",
    "    accelerated_residuals = []\n",
    "    λ = mls1.solve(a, tol=1e-8, accel='cg', residuals=accelerated_residuals)\n",
    "    \n",
    "    # Projection step\n",
    "    qp1 = qast - BN.dot(G.dot(λ[:n*m])) - BN.dot(E.T.dot(λ[n*m:]))\n",
    "    UB1 = UBast - iIB.dot(NB.dot(λ[n*m:]))\n",
    "    \n",
    "    residuals[k] = la.norm(qp1-q)/(la.norm(dt*qp1)) \n",
    "    \n",
    "    # Forcing term\n",
    "    F = iMh.dot(E.T.dot(λ[n*m:]))\n",
    "    Fx, Fy = F[:n*(m-1)].reshape((n, m-1)), F[n*(m-1):].reshape((n-1,m))\n",
    "    CFx[k] = 2*np.sum(Fx*dxp[np.newaxis,:]*dy[:,np.newaxis]) \n",
    "    CFy[k] = 2*np.sum(Fy*dx[np.newaxis,:]*dyp[:,np.newaxis])  \n",
    "    \n",
    "    #Updating coordinates\n",
    "    eta = eta + UB[1]*dt    \n",
    "    \n",
    "    Yc[k]= eta[0]\n",
    "    Vc[k]= UB[1]\n",
    "    \n",
    "    if k%100==0:\n",
    "        print(k, k*dt, residuals[k], CFy[k], CFx[k], eta[0], UB[1])\n",
    "   \n",
    "    \n",
    "    q = qp1.copy()\n",
    "    UBm1 = UB.copy()\n",
    "    UB = UB1.copy()\n",
    "    \n",
    "    Num1, Nvm1 = Nu, Nv\n",
    "    Nu, Nv = advection_hat(dx, dy, dxp, dyp, iR.dot(q), uS, uN, uW, uE, vS, vN, vW, vE)\n",
    "   "
   ]
  },
  {
   "cell_type": "markdown",
   "metadata": {},
   "source": [
    "Velocity, pressure, vorticity and forcing term"
   ]
  },
  {
   "cell_type": "code",
   "execution_count": null,
   "metadata": {
    "collapsed": false
   },
   "outputs": [],
   "source": [
    "iRq = iR.dot(q)\n",
    "u, v = iRq[:n*(m-1)].reshape((n, m-1)), iRq[n*(m-1):].reshape((n-1, m))\n",
    "p = λ[:n*m].reshape((n,m))\n",
    "f = λ[n*m:]\n",
    "w = np.diff(v, axis=1)/dxp[np.newaxis,:]-np.diff(u,axis=0)/dyp[:,np.newaxis]"
   ]
  },
  {
   "cell_type": "markdown",
   "metadata": {},
   "source": [
    "Display solution"
   ]
  },
  {
   "cell_type": "code",
   "execution_count": null,
   "metadata": {
    "collapsed": true
   },
   "outputs": [],
   "source": [
    "# Ploting velocity\n",
    "x0, x1 = -5, 5\n",
    "y0, y1 = 15, 35\n",
    "plt.figure(figsize=(5.5*3,4))\n",
    "plt.subplot(1,3,1) \n",
    "plt.pcolormesh(xu, yu, u, shading='gouraud')\n",
    "plt.plot(xi, eta, lw=1)\n",
    "plt.xlim(x0, x1)\n",
    "plt.ylim(y0, y1)\n",
    "plt.colorbar()\n",
    "\n",
    "plt.subplot(1,3,2)\n",
    "plt.pcolormesh(xv, yv, v, shading='gouraud')\n",
    "plt.plot(xi, eta, lw=1)\n",
    "plt.xlim(x0, x1)\n",
    "plt.ylim(y0, y1)\n",
    "plt.colorbar()\n",
    "\n",
    "# Ploting pressure\n",
    "plt.subplot(1,3,3)\n",
    "plt.pcolormesh(xp, yp, p, shading='gouraud')\n",
    "plt.plot(xi, eta, lw=1)\n",
    "plt.xlim(x0, x1)\n",
    "plt.ylim(y0, y1)\n",
    "plt.colorbar()"
   ]
  },
  {
   "cell_type": "code",
   "execution_count": null,
   "metadata": {
    "collapsed": true
   },
   "outputs": [],
   "source": [
    "# Ploting vorticity\n",
    "plt.figure(figsize=(5.5,4))\n",
    "plt.pcolormesh(xu, yv, w, shading='gouraud', vmin= -5, vmax=5)\n",
    "plt.plot(xi, eta, lw=1)\n",
    "plt.xlim(x0, x1)\n",
    "plt.ylim(y0, y1)\n",
    "plt.colorbar()"
   ]
  },
  {
   "cell_type": "code",
   "execution_count": null,
   "metadata": {
    "collapsed": false
   },
   "outputs": [],
   "source": [
    "# Ploting drag and lift coefficients\n",
    "plt.plot(np.arange(len(CFx))*dt, CFx, 'b-',label='Cd')\n",
    "plt.plot(np.arange(len(CFy))*dt, CFy, 'r-',label='Cl')\n",
    "plt.xlim(0, 50)\n",
    "plt.ylim(0, 9)\n",
    "plt.xlabel('t')\n",
    "plt.ylabel('Aerodynamic coefficients')"
   ]
  },
  {
   "cell_type": "code",
   "execution_count": null,
   "metadata": {
    "collapsed": true
   },
   "outputs": [],
   "source": [
    "# Ploting the vertical velocity of the cylinder\n",
    "plt.plot(np.arange(len(CFy))*dt, Vc, 'r-')\n",
    "plt.xlim(0, 50)\n",
    "plt.ylim(0.5, 0.9)\n",
    "plt.xlabel('t')\n",
    "plt.ylabel('Vc')"
   ]
  },
  {
   "cell_type": "code",
   "execution_count": null,
   "metadata": {
    "collapsed": true
   },
   "outputs": [],
   "source": [
    "# Ploting the vertical position of the cylinder\n",
    "plt.plot(np.arange(len(CFy))*dt, Yc, 'b-')\n",
    "plt.xlim(0, 30)\n",
    "plt.ylim(10, 45)\n",
    "plt.xlabel('t')\n",
    "plt.ylabel('Yc')"
   ]
  },
  {
   "cell_type": "code",
   "execution_count": null,
   "metadata": {
    "collapsed": true
   },
   "outputs": [],
   "source": []
  }
 ],
 "metadata": {
  "kernelspec": {
   "display_name": "Python 3",
   "language": "python",
   "name": "python3"
  },
  "language_info": {
   "codemirror_mode": {
    "name": "ipython",
    "version": 3
   },
   "file_extension": ".py",
   "mimetype": "text/x-python",
   "name": "python",
   "nbconvert_exporter": "python",
   "pygments_lexer": "ipython3",
   "version": "3.5.1"
  }
 },
 "nbformat": 4,
 "nbformat_minor": 0
}
