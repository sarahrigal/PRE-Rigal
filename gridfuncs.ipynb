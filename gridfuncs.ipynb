{
 "cells": [
  {
   "cell_type": "code",
   "execution_count": 1,
   "metadata": {
    "collapsed": true
   },
   "outputs": [],
   "source": [
    "import numpy as np\n",
    "from scipy.special import erf"
   ]
  },
  {
   "cell_type": "markdown",
   "metadata": {},
   "source": [
    "Stretching function"
   ]
  },
  {
   "cell_type": "code",
   "execution_count": 2,
   "metadata": {
    "collapsed": true
   },
   "outputs": [],
   "source": [
    "# Stretching of n-points from grid spacing dn0 to dn1\n",
    "#   ns: transition point \n",
    "#   maxs: maximum stretching\n",
    "#   ws, we we are the width of transition zones \n",
    "#        from 0 to maxs and viceversa\n",
    "def stretching(n, dn0, dn1, ns, ws, we, maxs):\n",
    "    ne = ns + np.log(dn1/dn0)/np.log(1+maxs)\n",
    "    \n",
    "    s=np.array([maxs*0.25*(1+erf(6*(x-ns)/(ws)))*(1-erf(6*(x-ne)/we)) for x in range(n)])\n",
    "\n",
    "    f_=np.empty(s.shape); f_[0] = dn0\n",
    "    for k in range(1,len(f_)):\n",
    "      f_[k] = f_[k-1]*(1+s[k])\n",
    "    f=np.empty(s.shape);  f[0] = 0.0\n",
    "    for k in range(1,len(f)):\n",
    "      f[k] = f[k-1] + f_[k]\n",
    "\n",
    "    return f, f_, s"
   ]
  }
 ],
 "metadata": {
  "kernelspec": {
   "display_name": "Python 3",
   "language": "python",
   "name": "python3"
  },
  "language_info": {
   "codemirror_mode": {
    "name": "ipython",
    "version": 3
   },
   "file_extension": ".py",
   "mimetype": "text/x-python",
   "name": "python",
   "nbconvert_exporter": "python",
   "pygments_lexer": "ipython3",
   "version": "3.5.1"
  }
 },
 "nbformat": 4,
 "nbformat_minor": 0
}
