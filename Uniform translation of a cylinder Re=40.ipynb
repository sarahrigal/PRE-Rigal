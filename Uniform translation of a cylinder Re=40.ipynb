{
 "cells": [
  {
   "cell_type": "markdown",
   "metadata": {},
   "source": [
    "Importing libraries and scripts"
   ]
  },
  {
   "cell_type": "code",
   "execution_count": null,
   "metadata": {
    "collapsed": true
   },
   "outputs": [],
   "source": [
    "%matplotlib inline\n",
    "import nbimport\n",
    "import numpy as np\n",
    "import matplotlib.pyplot as plt\n",
    "import scipy.linalg as la\n",
    "import scipy.sparse.linalg as spla\n",
    "import numpy.linalg as npl\n",
    "from pyamg import smoothed_aggregation_solver, rootnode_solver\n",
    "np.set_printoptions(linewidth=130)"
   ]
  },
  {
   "cell_type": "code",
   "execution_count": 2,
   "metadata": {
    "collapsed": false
   },
   "outputs": [
    {
     "name": "stdout",
     "output_type": "stream",
     "text": [
      "importing Jupyter notebook from fsmfuncs.ipynb\n",
      "importing Jupyter notebook from ibmfuncs.ipynb\n",
      "importing Jupyter notebook from gridfuncs.ipynb\n"
     ]
    }
   ],
   "source": [
    "from fsmfuncs import *\n",
    "from ibmfuncs import *\n",
    "from gridfuncs import *"
   ]
  },
  {
   "cell_type": "markdown",
   "metadata": {},
   "source": [
    "Numerical grid for the fluid"
   ]
  },
  {
   "cell_type": "code",
   "execution_count": 3,
   "metadata": {
    "collapsed": false
   },
   "outputs": [],
   "source": [
    "s1 = stretching(96+700, 0.04, 0.25, int(0.65/0.02)+700, 16, 16, 0.04)[0] # widening the uniform region around the cylinder by adding 700 points\n",
    "s2 = stretching(96, 0.04, 0.25, int(0.65/0.02), 16, 16, 0.04)[0]\n",
    "x = np.concatenate([-s2[::-1], s1[1:]])\n",
    "\n",
    "s = stretching(96, 0.04, 0.25, int(0.65/0.04), 16, 16, 0.04)[0]\n",
    "y = np.concatenate([-s[::-1], s[1:]])\n",
    "\n",
    "\n",
    "n, m = len(y)-1, len(x)-1\n",
    "\n",
    "dy, dx = np.diff(y), np.diff(x)\n",
    "dxmin = min(np.min(dx), np.min(dy)) \n",
    "\n",
    "#Pressure\n",
    "yp, xp = 0.5*(y[1:] + y[:-1]), 0.5*(x[1:] + x[:-1])                                                     \n",
    "dyp, dxp = np.diff(yp), np.diff(xp)\n",
    "p = np.zeros( (n, m) )\n",
    "\n",
    "#Horizontal velocity\n",
    "yu, xu = yp, x[1:-1]\n",
    "u = np.zeros( (n, m-1) )\n",
    "\n",
    "#Verticql velocity\n",
    "yv, xv = y[1:-1], xp\n",
    "v = np.zeros( (n-1, m) )"
   ]
  },
  {
   "cell_type": "markdown",
   "metadata": {},
   "source": [
    "Immersed boundary"
   ]
  },
  {
   "cell_type": "code",
   "execution_count": 4,
   "metadata": {
    "collapsed": false
   },
   "outputs": [],
   "source": [
    "r_ = 0.5\n",
    "l = int((2*np.pi*r_)/dxmin) \n",
    "ang_ = 2*np.pi*np.arange(l)/l \n",
    "\n",
    "#Coordinates\n",
    "xi = 0 + r_*np.cos(ang_)\n",
    "eta = 0 + r_*np.sin(ang_)\n",
    "\n",
    "ds = 2*np.pi*r_/l*np.ones(l)\n",
    "\n",
    "#Velocity: uniform horizontal translation \n",
    "uB = np.ones_like(xi)\n",
    "vB = np.zeros_like(xi)"
   ]
  },
  {
   "cell_type": "markdown",
   "metadata": {},
   "source": [
    "Plot grid and immersed boundary"
   ]
  },
  {
   "cell_type": "code",
   "execution_count": null,
   "metadata": {
    "collapsed": true
   },
   "outputs": [],
   "source": [
    "plt.figure(figsize=(8,8))\n",
    "X, Y = np.meshgrid(x, y) \n",
    "plt.plot(X, Y, 'b-');\n",
    "plt.plot(X.T, Y.T, 'b-'); \n",
    "plt.plot(xi, eta, 'ro-'); \n",
    "plt.axis('equal')"
   ]
  },
  {
   "cell_type": "markdown",
   "metadata": {},
   "source": [
    "Boundary conditions + initial flow"
   ]
  },
  {
   "cell_type": "code",
   "execution_count": 6,
   "metadata": {
    "collapsed": true
   },
   "outputs": [],
   "source": [
    "uS, uN = np.zeros(m-1), np.zeros(m-1) \n",
    "uE, uW = np.zeros(n), np.zeros(n)\n",
    "\n",
    "vS, vN = np.zeros(m), np.zeros(m)\n",
    "vE, vW = np.zeros(n-1), np.zeros(n-1)\n",
    "\n",
    "u[:,:]=0 \n",
    "v[:,:]=0"
   ]
  },
  {
   "cell_type": "markdown",
   "metadata": {},
   "source": [
    "Build matrices (I)"
   ]
  },
  {
   "cell_type": "code",
   "execution_count": 7,
   "metadata": {
    "collapsed": false
   },
   "outputs": [],
   "source": [
    "G, DuW, DuE, DvS, DvN = gradient(dxp, dyp)\n",
    "R, iR = weight (dx, dy)\n",
    "Mh, iMh = mass_hat (dxp, dyp)\n",
    "Lh, Lux0, Lux1, Luy0, Luy1, Lvx0, Lvx1, Lvy0, Lvy1 = laplacian_hat(dx, dy, dxp, dyp)\n",
    "\n",
    "L = Mh.dot(Lh.dot(iR))\n",
    "\n",
    "M = Mh.dot(iR)\n",
    "iM = R.dot(iMh)\n",
    "\n",
    "iML = iM.dot(L)"
   ]
  },
  {
   "cell_type": "code",
   "execution_count": null,
   "metadata": {
    "collapsed": true
   },
   "outputs": [],
   "source": [
    "#Reynolds number\n",
    "iRe = 1/40.0\n",
    "\n",
    "#Time step\n",
    "dt = 0.3* min(dxmin**2/iRe, dxmin) \n",
    "\n",
    "print(dt, dxmin**2/iRe, dxmin)"
   ]
  },
  {
   "cell_type": "markdown",
   "metadata": {
    "collapsed": true
   },
   "source": [
    "Build matrices (II)"
   ]
  },
  {
   "cell_type": "code",
   "execution_count": 9,
   "metadata": {
    "collapsed": false
   },
   "outputs": [],
   "source": [
    "A = (M/dt - 0.5*iRe*L).tocsr() \n",
    "B = (M/dt + 0.5*iRe*L).tocsr()\n",
    "\n",
    "BN = dt*iM + (0.5*iRe)*dt**2*iML.dot(iM) + (0.5*iRe)**2*dt**3*iML.dot(iML.dot(iM))"
   ]
  },
  {
   "cell_type": "code",
   "execution_count": 10,
   "metadata": {
    "collapsed": true
   },
   "outputs": [],
   "source": [
    "#Velocity flux\n",
    "q = R.dot(np.concatenate([u.ravel(), v.ravel()])) \n",
    "qast = q.copy()\n",
    "\n",
    "Num1, Nvm1 = advection_hat(dx, dy, dxp, dyp, iR.dot(q),  uS, uN, uW, uE, vS, vN, vW, vE)\n",
    "Nu, Nv = Num1, Nvm1"
   ]
  },
  {
   "cell_type": "markdown",
   "metadata": {},
   "source": [
    "Time loop"
   ]
  },
  {
   "cell_type": "code",
   "execution_count": null,
   "metadata": {
    "collapsed": true
   },
   "outputs": [],
   "source": [
    "nt = int(3.5/dt)\n",
    "print(\"Performing\", nt, \"steps\")\n",
    "\n",
    "# horizontal velocity of the cylinder\n",
    "U0 = 1 \n",
    "\n",
    "residuals = np.zeros(nt)\n",
    "\n",
    "#Drag and lift coefficients\n",
    "CFx = np.zeros(nt)\n",
    "CFy = np.zeros(nt)\n",
    "\n",
    "for k in range(nt):    \n",
    "    \n",
    "    # Computing regularization and interpolation operators\n",
    "    Eh = interpolation_hat(xi, eta, ds, x, y, xp, yp, dx, dy, dxp, dyp)\n",
    "    Hh = regularization_hat(xi, eta, ds, x, y, xp, yp, dx, dy, dxp, dyp)\n",
    "\n",
    "    E = Eh.dot(iR)\n",
    "    H = Mh.dot(Hh)\n",
    "\n",
    "\n",
    "    Q = sp.hstack([G, E.T])\n",
    "\n",
    "    QTBNQ = Q.T.dot(BN.dot(Q)).tocsr()\n",
    "    \n",
    "    ru = iRe*(Lux0.dot(uW) + Lux1.dot(uE) + Luy0.dot(uS) + Luy1.dot(uN)) - 1.5*Nu + 0.5*Num1\n",
    "    rv = iRe*(Lvx0.dot(vW) + Lvx1.dot(vE) + Lvy0.dot(vS) + Lvy1.dot(vN)) - 1.5*Nv + 0.5*Nvm1\n",
    "    \n",
    "    bc1 = Mh.dot(np.concatenate([ru, rv]))\n",
    "    r1 = B.dot(q.ravel()) + bc1\n",
    "   \n",
    "    # Solving the first linear equation using an iterative solver\n",
    "    mls = smoothed_aggregation_solver(A)\n",
    "    accelerated_residuals = []\n",
    "    qast= mls.solve( r1, tol=1e-8, accel='cg', residuals=accelerated_residuals)\n",
    "    \n",
    "    bc2 = - (DuW.dot(uW*dy) + DuE.dot(uE*dy) + DvS.dot(vS*dx) + DvN.dot(vN*dx))\n",
    "    r2 = np.concatenate([-bc2, uB, vB])\n",
    "\n",
    "    # Solving the second linear equation using an iterative solver\n",
    "    mls1 = smoothed_aggregation_solver(QTBNQ)\n",
    "    accelerated_residuals = []\n",
    "    λ = mls1.solve(Q.T.dot(qast)-r2, tol=1e-8, accel='cg', residuals=accelerated_residuals)\n",
    "    \n",
    "    # Pojection step\n",
    "    qp1 = qast - BN.dot(Q.dot(λ))\n",
    "    \n",
    "    residuals[k] = la.norm(qp1-q)/(la.norm(dt*qp1)) \n",
    "    \n",
    "    # Forcing term\n",
    "    F = iMh.dot(E.T.dot(λ[n*m:]))\n",
    "    Fx, Fy = F[:n*(m-1)].reshape((n, m-1)), F[n*(m-1):].reshape((n-1,m))\n",
    "    CFx[k] = 2*np.sum(Fx*dxp[np.newaxis,:]*dy[:,np.newaxis]) \n",
    "    CFy[k] = 2*np.sum(Fy*dx[np.newaxis,:]*dyp[:,np.newaxis])  \n",
    "    \n",
    "    if k%100==0:\n",
    "        print(k, k*dt, residuals[k], CFx[k], CFy[k])\n",
    "\n",
    "    q = qp1\n",
    "    uE = uE - dt/dx[-1]*(uE - iR.dot(q)[:n*(m-1)].reshape((n, m-1))[:,-1])\n",
    "    \n",
    "    # updating coordinates\n",
    "    xi= xi + U0*dt \n",
    "    \n",
    "    Num1, Nvm1 = Nu, Nv\n",
    "    Nu, Nv = advection_hat(dx, dy, dxp, dyp, iR.dot(q), uS, uN, uW, uE, vS, vN, vW, vE)\n",
    "    "
   ]
  },
  {
   "cell_type": "markdown",
   "metadata": {},
   "source": [
    "Velocity, pressure, vorticity and forcing term"
   ]
  },
  {
   "cell_type": "code",
   "execution_count": 12,
   "metadata": {
    "collapsed": false
   },
   "outputs": [],
   "source": [
    "iRq = iR.dot(q)\n",
    "u, v = iRq[:n*(m-1)].reshape((n, m-1)), iRq[n*(m-1):].reshape((n-1, m))\n",
    "p = λ[:n*m].reshape((n,m))\n",
    "f = λ[n*m:]\n",
    "w = np.diff(v,axis=1)/dxp[np.newaxis,:]-np.diff(u,axis=0)/dyp[:,np.newaxis]"
   ]
  },
  {
   "cell_type": "markdown",
   "metadata": {},
   "source": [
    "Display solution"
   ]
  },
  {
   "cell_type": "code",
   "execution_count": null,
   "metadata": {
    "collapsed": true
   },
   "outputs": [],
   "source": [
    "# Ploting velocity\n",
    "x0, x1 = 0, 6\n",
    "y0, y1 = -3, 3\n",
    "plt.figure(figsize=(5.5*3,4))\n",
    "plt.subplot(1,3,1) \n",
    "plt.pcolormesh(xu, yu, u, shading='gouraud')\n",
    "plt.plot(xi, eta, lw=1)\n",
    "plt.xlim(x0, x1)\n",
    "plt.ylim(y0, y1)\n",
    "plt.colorbar()\n",
    "\n",
    "plt.subplot(1,3,2)\n",
    "plt.pcolormesh(xv, yv, v, shading='gouraud')\n",
    "plt.plot(xi, eta, lw=1)\n",
    "plt.xlim(x0, x1)\n",
    "plt.ylim(y0, y1)\n",
    "plt.colorbar()\n",
    "\n",
    "# Ploting pressure\n",
    "plt.subplot(1,3,3)\n",
    "plt.pcolormesh(xp, yp, p, shading='gouraud')\n",
    "plt.plot(xi, eta, lw=1)\n",
    "plt.xlim(x0, x1)\n",
    "plt.ylim(y0, y1)\n",
    "plt.colorbar()"
   ]
  },
  {
   "cell_type": "code",
   "execution_count": null,
   "metadata": {
    "collapsed": true
   },
   "outputs": [],
   "source": [
    "# Ploting vorticity\n",
    "plt.figure(figsize=(5.5,4))\n",
    "plt.pcolormesh(xu, yv, w, shading='gouraud')\n",
    "plt.plot(xi, eta, lw=1)\n",
    "plt.xlim(x0, x1)\n",
    "plt.ylim(y0, y1)\n",
    "plt.colorbar()"
   ]
  },
  {
   "cell_type": "code",
   "execution_count": null,
   "metadata": {
    "collapsed": true
   },
   "outputs": [],
   "source": [
    "# Ploting aerodynamic coefficients\n",
    "plt.plot(np.arange(len(CFx))*dt, -CFx, 'b-', label='Cd')\n",
    "plt.plot(np.arange(len(CFy))*dt, CFy, 'r:', label='Cl')\n",
    "plt.xlim(0, 3.5)\n",
    "plt.ylim(1, 10)\n",
    "plt.xlabel('t')\n",
    "plt.ylabel('Aerodynamic coefficients')\n",
    "plt.legend()"
   ]
  },
  {
   "cell_type": "code",
   "execution_count": null,
   "metadata": {
    "collapsed": true
   },
   "outputs": [],
   "source": []
  }
 ],
 "metadata": {
  "kernelspec": {
   "display_name": "Python 3",
   "language": "python",
   "name": "python3"
  },
  "language_info": {
   "codemirror_mode": {
    "name": "ipython",
    "version": 3
   },
   "file_extension": ".py",
   "mimetype": "text/x-python",
   "name": "python",
   "nbconvert_exporter": "python",
   "pygments_lexer": "ipython3",
   "version": "3.5.1"
  }
 },
 "nbformat": 4,
 "nbformat_minor": 0
}
