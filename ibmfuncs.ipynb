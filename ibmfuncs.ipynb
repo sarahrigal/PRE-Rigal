{
 "cells": [
  {
   "cell_type": "code",
   "execution_count": 2,
   "metadata": {
    "collapsed": false
   },
   "outputs": [],
   "source": [
    "import numpy as np\n",
    "import scipy.sparse as sp"
   ]
  },
  {
   "cell_type": "markdown",
   "metadata": {},
   "source": [
    "Auxiliary functions for the Immersed boundary method: delta's and interpolation 1D"
   ]
  },
  {
   "cell_type": "code",
   "execution_count": 54,
   "metadata": {
    "collapsed": false
   },
   "outputs": [],
   "source": [
    "def delta (r, dr):\n",
    "    d = np.zeros_like(r)\n",
    "    absr = np.abs(r/dr)\n",
    "    m3 = absr>1.5\n",
    "    m1 = absr<=0.5\n",
    "    d[m1] = (1+np.sqrt(1-3*absr[m1]**2))/(3*dr)\n",
    "    m2 = np.logical_not(np.logical_or(m1, m3))\n",
    "    d[m2] = (5-3*absr[m2] - np.sqrt(1-3*(1-absr[m2])**2))/(6*dr)\n",
    "    return d"
   ]
  },
  {
   "cell_type": "code",
   "execution_count": 53,
   "metadata": {
    "collapsed": true
   },
   "outputs": [],
   "source": [
    "def interpolation_1d(xi, x, dx, normalized=None, nelem=2):\n",
    "    xi_x = np.argmin(np.abs(xi[:,np.newaxis]-x[np.newaxis,:]), axis=1) \n",
    "    xi_dx = dx[xi_x]\n",
    "    \n",
    "    scale_factor = xi_dx if normalized else np.ones_like(xi_dx)\n",
    "        \n",
    "    e_i, e_j, e_val=[], [], []\n",
    "    for j in range(len(xi)):\n",
    "        xj = xi_x[j]\n",
    "\n",
    "        e_i.append(j*np.ones(2*nelem+1))\n",
    "        e_j.append(np.arange(xj-nelem,xj+nelem+1))\n",
    "        deltaj = delta((xi[j] - x[xj-nelem:xj+nelem+1]), xi_dx[j])\n",
    "        e_val.append(scale_factor[j]*deltaj)\n",
    "        \n",
    "    e_i, e_j, e_val = np.asarray(e_i).ravel(), np.asarray(e_j).ravel(), np.asarray(e_val).ravel()\n",
    "    E_ = sp.coo_matrix((e_val, (e_i, e_j)), shape=(len(xi), len(x)))\n",
    "    return E_"
   ]
  },
  {
   "cell_type": "markdown",
   "metadata": {},
   "source": [
    "Interpolation operator"
   ]
  },
  {
   "cell_type": "code",
   "execution_count": 49,
   "metadata": {
    "collapsed": false
   },
   "outputs": [],
   "source": [
    "def interpolation_hat(xi, eta, ds, x, y, xp, yp, dx, dy, dxp, dyp):\n",
    "    yu, xu = yp, x[1:-1]\n",
    "    Eux = interpolation_1d(xi, xu, dx, normalized=True)\n",
    "    Euy = interpolation_1d(eta, yu, dyp, normalized=True)\n",
    "    Euyy = sp.kron(Euy, np.ones_like(xu)).tocsr()\n",
    "    Euxx = sp.kron(np.ones_like(yu), Eux).tocsr()\n",
    "    Eu = Euyy.multiply(Euxx)\n",
    "\n",
    "    yv, xv = y[1:-1], xp\n",
    "    Evx = interpolation_1d(xi, xv, dxp, normalized=True)\n",
    "    Evy = interpolation_1d(eta, yv, dy, normalized=True)\n",
    "    Evyy = sp.kron(Evy, np.ones_like(xv)).tocsr()\n",
    "    Evxx = sp.kron(np.ones_like(yv), Evx).tocsr()\n",
    "    Ev = Evyy.multiply(Evxx)\n",
    "    \n",
    "    E = sp.block_diag([Eu, Ev])\n",
    "\n",
    "    return E"
   ]
  },
  {
   "cell_type": "markdown",
   "metadata": {},
   "source": [
    "Regularization operator"
   ]
  },
  {
   "cell_type": "code",
   "execution_count": 50,
   "metadata": {
    "collapsed": true
   },
   "outputs": [],
   "source": [
    "def regularization_hat(xi, eta, ds, x, y, xp, yp, dx, dy, dxp, dyp):\n",
    "    yu, xu = yp, x[1:-1]\n",
    "    Eux = interpolation_1d(xi, xu, dx, normalized=False)\n",
    "    Euy = interpolation_1d(eta, yu, dyp, normalized=False)\n",
    "    Euyy = sp.kron(Euy, np.ones_like(xu)).tocsr()\n",
    "    Euxx = sp.kron(np.ones_like(yu), Eux).tocsr()\n",
    "    Eu = Euyy.multiply(Euxx)\n",
    "\n",
    "    yv, xv = y[1:-1], xp\n",
    "    Evx = interpolation_1d(xi, xv, dxp, normalized=False)\n",
    "    Evy = interpolation_1d(eta, yv, dy, normalized=False)\n",
    "    Evyy = sp.kron(Evy, np.ones_like(xv)).tocsr()\n",
    "    Evxx = sp.kron(np.ones_like(yv), Evx).tocsr()\n",
    "    Ev = Evyy.multiply(Evxx)\n",
    "    \n",
    "    β = sp.block_diag([sp.diags(ds, 0), sp.diags(ds, 0)])\n",
    "    \n",
    "    Eoa = sp.block_diag([Eu, Ev])\n",
    "\n",
    "    return Eoa.T.dot(β)"
   ]
  },
  {
   "cell_type": "code",
   "execution_count": 52,
   "metadata": {
    "collapsed": false
   },
   "outputs": [
    {
     "name": "stdout",
     "output_type": "stream",
     "text": [
      "1.0\n"
     ]
    },
    {
     "data": {
      "image/png": "[encoded data removed]",
      "text/html": [
       "\n",
       "\n",
       "<style>\n",
       "\n",
       "</style>\n",
       "\n",
       "<div id=\"fig_el158591406931413861287381046202\"></div>\n",
       "<script>\n",
       "function mpld3_load_lib(url, callback){\n",
       "  var s = document.createElement('script');\n",
       "  s.src = url;\n",
       "  s.async = true;\n",
       "  s.onreadystatechange = s.onload = callback;\n",
       "  s.onerror = function(){console.warn(\"failed to load library \" + url);};\n",
       "  document.getElementsByTagName(\"head\")[0].appendChild(s);\n",
       "}\n",
       "\n",
       "if(typeof(mpld3) !== \"undefined\" && mpld3._mpld3IsLoaded){\n",
       "   // already loaded: just create the figure\n",
       "   !function(mpld3){\n",
       "       \n",
       "       mpld3.draw_figure(\"fig_el158591406931413861287381046202\", {\"id\": \"el15859140693141386128\", \"axes\": [{\"zoomable\": true, \"axes\": [{\"tickformat\": null, \"grid\": {\"gridOn\": false}, \"fontsize\": 10.0, \"nticks\": 7, \"tickvalues\": null, \"scale\": \"linear\", \"position\": \"bottom\"}, {\"tickformat\": null, \"grid\": {\"gridOn\": false}, \"fontsize\": 10.0, \"nticks\": 9, \"tickvalues\": null, \"scale\": \"linear\", \"position\": \"left\"}], \"markers\": [{\"yindex\": 1, \"facecolor\": \"#0000FF\", \"xindex\": 0, \"alpha\": 1, \"id\": \"el15859140693145786632pts\", \"markerpath\": [[[0.0, 3.0], [0.7956093000000001, 3.0], [1.5587396123545605, 2.683901074764725], [2.121320343559643, 2.121320343559643], [2.683901074764725, 1.5587396123545605], [3.0, 0.7956093000000001], [3.0, 0.0], [3.0, -0.7956093000000001], [2.683901074764725, -1.5587396123545605], [2.121320343559643, -2.121320343559643], [1.5587396123545605, -2.683901074764725], [0.7956093000000001, -3.0], [0.0, -3.0], [-0.7956093000000001, -3.0], [-1.5587396123545605, -2.683901074764725], [-2.121320343559643, -2.121320343559643], [-2.683901074764725, -1.5587396123545605], [-3.0, -0.7956093000000001], [-3.0, 0.0], [-3.0, 0.7956093000000001], [-2.683901074764725, 1.5587396123545605], [-2.121320343559643, 2.121320343559643], [-1.5587396123545605, 2.683901074764725], [-0.7956093000000001, 3.0], [0.0, 3.0]], [\"M\", \"C\", \"C\", \"C\", \"C\", \"C\", \"C\", \"C\", \"C\", \"Z\"]], \"coordinates\": \"data\", \"zorder\": 2, \"edgecolor\": \"#000000\", \"edgewidth\": 0.5, \"data\": \"data01\"}], \"bbox\": [0.125, 0.125, 0.775, 0.775], \"xdomain\": [-6.0, 6.0], \"xscale\": \"linear\", \"yscale\": \"linear\", \"images\": [], \"ydomain\": [0.0, 0.7000000000000001], \"ylim\": [0.0, 0.7000000000000001], \"texts\": [], \"sharex\": [], \"xlim\": [-6.0, 6.0], \"sharey\": [], \"axesbgalpha\": null, \"collections\": [], \"id\": \"el15859140693145330632\", \"lines\": [{\"yindex\": 1, \"dasharray\": \"10,0\", \"xindex\": 0, \"alpha\": 1, \"id\": \"el15859140693145786632\", \"zorder\": 2, \"coordinates\": \"data\", \"linewidth\": 1.0, \"color\": \"#0000FF\", \"data\": \"data01\"}], \"axesbg\": \"#FFFFFF\", \"paths\": []}], \"plugins\": [{\"type\": \"reset\"}, {\"enabled\": false, \"button\": true, \"type\": \"zoom\"}, {\"enabled\": false, \"button\": true, \"type\": \"boxzoom\"}], \"height\": 320.0, \"width\": 480.0, \"data\": {\"data01\": [[-5.0, 0.0], [-4.0, 0.0], [-3.0, 0.0], [-2.0, 0.0], [-1.0, 0.1616916685419479], [0.0, 0.6666166629161041], [1.0, 0.17169166854194798], [2.0, 0.0], [3.0, 0.0], [4.0, 0.0], [5.0, 0.0]]}});\n",
       "   }(mpld3);\n",
       "}else if(typeof define === \"function\" && define.amd){\n",
       "   // require.js is available: use it to load d3/mpld3\n",
       "   require.config({paths: {d3: \"https://mpld3.github.io/js/d3.v3.min\"}});\n",
       "   require([\"d3\"], function(d3){\n",
       "      window.d3 = d3;\n",
       "      mpld3_load_lib(\"https://mpld3.github.io/js/mpld3.v0.2.js\", function(){\n",
       "         \n",
       "         mpld3.draw_figure(\"fig_el158591406931413861287381046202\", {\"id\": \"el15859140693141386128\", \"axes\": [{\"zoomable\": true, \"axes\": [{\"tickformat\": null, \"grid\": {\"gridOn\": false}, \"fontsize\": 10.0, \"nticks\": 7, \"tickvalues\": null, \"scale\": \"linear\", \"position\": \"bottom\"}, {\"tickformat\": null, \"grid\": {\"gridOn\": false}, \"fontsize\": 10.0, \"nticks\": 9, \"tickvalues\": null, \"scale\": \"linear\", \"position\": \"left\"}], \"markers\": [{\"yindex\": 1, \"facecolor\": \"#0000FF\", \"xindex\": 0, \"alpha\": 1, \"id\": \"el15859140693145786632pts\", \"markerpath\": [[[0.0, 3.0], [0.7956093000000001, 3.0], [1.5587396123545605, 2.683901074764725], [2.121320343559643, 2.121320343559643], [2.683901074764725, 1.5587396123545605], [3.0, 0.7956093000000001], [3.0, 0.0], [3.0, -0.7956093000000001], [2.683901074764725, -1.5587396123545605], [2.121320343559643, -2.121320343559643], [1.5587396123545605, -2.683901074764725], [0.7956093000000001, -3.0], [0.0, -3.0], [-0.7956093000000001, -3.0], [-1.5587396123545605, -2.683901074764725], [-2.121320343559643, -2.121320343559643], [-2.683901074764725, -1.5587396123545605], [-3.0, -0.7956093000000001], [-3.0, 0.0], [-3.0, 0.7956093000000001], [-2.683901074764725, 1.5587396123545605], [-2.121320343559643, 2.121320343559643], [-1.5587396123545605, 2.683901074764725], [-0.7956093000000001, 3.0], [0.0, 3.0]], [\"M\", \"C\", \"C\", \"C\", \"C\", \"C\", \"C\", \"C\", \"C\", \"Z\"]], \"coordinates\": \"data\", \"zorder\": 2, \"edgecolor\": \"#000000\", \"edgewidth\": 0.5, \"data\": \"data01\"}], \"bbox\": [0.125, 0.125, 0.775, 0.775], \"xdomain\": [-6.0, 6.0], \"xscale\": \"linear\", \"yscale\": \"linear\", \"images\": [], \"ydomain\": [0.0, 0.7000000000000001], \"ylim\": [0.0, 0.7000000000000001], \"texts\": [], \"sharex\": [], \"xlim\": [-6.0, 6.0], \"sharey\": [], \"axesbgalpha\": null, \"collections\": [], \"id\": \"el15859140693145330632\", \"lines\": [{\"yindex\": 1, \"dasharray\": \"10,0\", \"xindex\": 0, \"alpha\": 1, \"id\": \"el15859140693145786632\", \"zorder\": 2, \"coordinates\": \"data\", \"linewidth\": 1.0, \"color\": \"#0000FF\", \"data\": \"data01\"}], \"axesbg\": \"#FFFFFF\", \"paths\": []}], \"plugins\": [{\"type\": \"reset\"}, {\"enabled\": false, \"button\": true, \"type\": \"zoom\"}, {\"enabled\": false, \"button\": true, \"type\": \"boxzoom\"}], \"height\": 320.0, \"width\": 480.0, \"data\": {\"data01\": [[-5.0, 0.0], [-4.0, 0.0], [-3.0, 0.0], [-2.0, 0.0], [-1.0, 0.1616916685419479], [0.0, 0.6666166629161041], [1.0, 0.17169166854194798], [2.0, 0.0], [3.0, 0.0], [4.0, 0.0], [5.0, 0.0]]}});\n",
       "      });\n",
       "    });\n",
       "}else{\n",
       "    // require.js not available: dynamically load d3 & mpld3\n",
       "    mpld3_load_lib(\"https://mpld3.github.io/js/d3.v3.min.js\", function(){\n",
       "         mpld3_load_lib(\"https://mpld3.github.io/js/mpld3.v0.2.js\", function(){\n",
       "                 \n",
       "                 mpld3.draw_figure(\"fig_el158591406931413861287381046202\", {\"id\": \"el15859140693141386128\", \"axes\": [{\"zoomable\": true, \"axes\": [{\"tickformat\": null, \"grid\": {\"gridOn\": false}, \"fontsize\": 10.0, \"nticks\": 7, \"tickvalues\": null, \"scale\": \"linear\", \"position\": \"bottom\"}, {\"tickformat\": null, \"grid\": {\"gridOn\": false}, \"fontsize\": 10.0, \"nticks\": 9, \"tickvalues\": null, \"scale\": \"linear\", \"position\": \"left\"}], \"markers\": [{\"yindex\": 1, \"facecolor\": \"#0000FF\", \"xindex\": 0, \"alpha\": 1, \"id\": \"el15859140693145786632pts\", \"markerpath\": [[[0.0, 3.0], [0.7956093000000001, 3.0], [1.5587396123545605, 2.683901074764725], [2.121320343559643, 2.121320343559643], [2.683901074764725, 1.5587396123545605], [3.0, 0.7956093000000001], [3.0, 0.0], [3.0, -0.7956093000000001], [2.683901074764725, -1.5587396123545605], [2.121320343559643, -2.121320343559643], [1.5587396123545605, -2.683901074764725], [0.7956093000000001, -3.0], [0.0, -3.0], [-0.7956093000000001, -3.0], [-1.5587396123545605, -2.683901074764725], [-2.121320343559643, -2.121320343559643], [-2.683901074764725, -1.5587396123545605], [-3.0, -0.7956093000000001], [-3.0, 0.0], [-3.0, 0.7956093000000001], [-2.683901074764725, 1.5587396123545605], [-2.121320343559643, 2.121320343559643], [-1.5587396123545605, 2.683901074764725], [-0.7956093000000001, 3.0], [0.0, 3.0]], [\"M\", \"C\", \"C\", \"C\", \"C\", \"C\", \"C\", \"C\", \"C\", \"Z\"]], \"coordinates\": \"data\", \"zorder\": 2, \"edgecolor\": \"#000000\", \"edgewidth\": 0.5, \"data\": \"data01\"}], \"bbox\": [0.125, 0.125, 0.775, 0.775], \"xdomain\": [-6.0, 6.0], \"xscale\": \"linear\", \"yscale\": \"linear\", \"images\": [], \"ydomain\": [0.0, 0.7000000000000001], \"ylim\": [0.0, 0.7000000000000001], \"texts\": [], \"sharex\": [], \"xlim\": [-6.0, 6.0], \"sharey\": [], \"axesbgalpha\": null, \"collections\": [], \"id\": \"el15859140693145330632\", \"lines\": [{\"yindex\": 1, \"dasharray\": \"10,0\", \"xindex\": 0, \"alpha\": 1, \"id\": \"el15859140693145786632\", \"zorder\": 2, \"coordinates\": \"data\", \"linewidth\": 1.0, \"color\": \"#0000FF\", \"data\": \"data01\"}], \"axesbg\": \"#FFFFFF\", \"paths\": []}], \"plugins\": [{\"type\": \"reset\"}, {\"enabled\": false, \"button\": true, \"type\": \"zoom\"}, {\"enabled\": false, \"button\": true, \"type\": \"boxzoom\"}], \"height\": 320.0, \"width\": 480.0, \"data\": {\"data01\": [[-5.0, 0.0], [-4.0, 0.0], [-3.0, 0.0], [-2.0, 0.0], [-1.0, 0.1616916685419479], [0.0, 0.6666166629161041], [1.0, 0.17169166854194798], [2.0, 0.0], [3.0, 0.0], [4.0, 0.0], [5.0, 0.0]]}});\n",
       "            })\n",
       "         });\n",
       "}\n",
       "</script>"
      ],
      "text/plain": [
       "<matplotlib.figure.Figure at 0x7ff5acb6f390>"
      ]
     },
     "metadata": {},
     "output_type": "display_data"
    }
   ],
   "source": [
    "if __name__==\"__main__\":\n",
    "    %matplotlib inline\n",
    "    import matplotlib.pyplot as plt\n",
    "    import mpld3\n",
    "    mpld3.enable_notebook()\n",
    "    x = np.linspace(-5, 5, 11);\n",
    "    xi = np.asarray([0.01,]);\n",
    "    d = delta (x-xi, 1)\n",
    "    plt.plot(x, d, '-o')\n",
    "    print(np.sum(d))"
   ]
  }
 ],
 "metadata": {
  "kernelspec": {
   "display_name": "Python 3",
   "language": "python",
   "name": "python3"
  },
  "language_info": {
   "codemirror_mode": {
    "name": "ipython",
    "version": 3
   },
   "file_extension": ".py",
   "mimetype": "text/x-python",
   "name": "python",
   "nbconvert_exporter": "python",
   "pygments_lexer": "ipython3",
   "version": "3.5.1"
  }
 },
 "nbformat": 4,
 "nbformat_minor": 0
}
