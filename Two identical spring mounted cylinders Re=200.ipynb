{
 "cells": [
  {
   "cell_type": "markdown",
   "metadata": {},
   "source": [
    "Importing libraries and scripts"
   ]
  },
  {
   "cell_type": "code",
   "execution_count": null,
   "metadata": {
    "collapsed": true
   },
   "outputs": [],
   "source": [
    "%matplotlib inline\n",
    "import nbimport\n",
    "import numpy as np\n",
    "import matplotlib.pyplot as plt\n",
    "import scipy.linalg as la\n",
    "import scipy.sparse.linalg as spla\n",
    "from pyamg import smoothed_aggregation_solver, rootnode_solver\n",
    "import scipy.sparse as spa\n",
    "np.set_printoptions(linewidth=130)"
   ]
  },
  {
   "cell_type": "code",
   "execution_count": null,
   "metadata": {
    "collapsed": true
   },
   "outputs": [],
   "source": [
    "from fsmfuncs import *\n",
    "from ibmfuncs import *\n",
    "from gridfuncs import *"
   ]
  },
  {
   "cell_type": "markdown",
   "metadata": {},
   "source": [
    "Numerical grid for the fluid"
   ]
  },
  {
   "cell_type": "code",
   "execution_count": 3,
   "metadata": {
    "collapsed": false
   },
   "outputs": [],
   "source": [
    "s1 = stretching(50, 0.033, 0.20, int(0.65/0.033), 16, 16, 0.04)[0]\n",
    "s2 = stretching(50, 0.033, 0.20, int(0.65/0.033), 16, 16, 0.04)[0]\n",
    "s3 = stretching(50, 0.033, 0.20, int(0.65/0.033), 16, 16, 0.04)[0]\n",
    "s4 = stretching(256, 0.033, 0.20, int(0.65/0.033), 16, 16, 0.04)[0]\n",
    "\n",
    "x1 = np.concatenate([-s2[::-1], s1[1:]])\n",
    "x2 = np.concatenate([-s3[::-1], s4[1:]])+ (s2[-1]+s1[-1])\n",
    "x = np.concatenate([x1[:-1], x2[1:]])\n",
    "\n",
    "s = stretching(192, 0.033, 0.20, int(0.65/0.033), 16, 16, 0.04)[0]\n",
    "y = np.concatenate([-s[::-1], s[1:]])\n",
    "\n",
    "n, m = len(y)-1, len(x)-1\n",
    "\n",
    "dy, dx = np.diff(y), np.diff(x)\n",
    "dxmin = min(np.min(dx), np.min(dy))\n",
    "\n",
    "# Pressure\n",
    "yp, xp = 0.5*(y[1:] + y[:-1]), 0.5*(x[1:] + x[:-1])\n",
    "dyp, dxp = np.diff(yp), np.diff(xp)\n",
    "p = np.zeros( (n, m) )\n",
    "\n",
    "# Horizontal velocity\n",
    "yu, xu = yp, x[1:-1]\n",
    "u = np.zeros( (n, m-1) )\n",
    "\n",
    "# Vertical velocity\n",
    "yv, xv = y[1:-1], xp\n",
    "v = np.zeros( (n-1, m) )"
   ]
  },
  {
   "cell_type": "markdown",
   "metadata": {},
   "source": [
    "Immersed boundary"
   ]
  },
  {
   "cell_type": "code",
   "execution_count": null,
   "metadata": {
    "collapsed": true
   },
   "outputs": [],
   "source": [
    "r_ = 0.5\n",
    "l = int((2*np.pi*r_)/dxmin)\n",
    "ang_ = 2*np.pi*np.arange(l)/l\n",
    "\n",
    "xi = np.zeros(2*l)\n",
    "eta = np.zeros(2*l)\n",
    "\n",
    "# Coordinates of the first cylinder\n",
    "xi[:l] = 0 + r_*np.cos(ang_)\n",
    "eta[:l] = 0 + r_*np.sin(ang_)\n",
    "\n",
    "# Coordinates of the second cylinder\n",
    "xi[l:] = (s2[-1]+s1[-1]) + r_*np.cos(ang_)\n",
    "eta[l:] = 0 + r_*np.sin(ang_)\n",
    "\n",
    "ds = 2*np.pi*r_/l*np.ones(2*l)\n",
    "\n",
    "# Velocity vectors for both cylinders\n",
    "UB = np.zeros(4)\n",
    "UBm1 = np.zeros(4)\n",
    "\n",
    "# Position vector for both cylinders\n",
    "XB = np.zeros(4)\n",
    "XB[2]=xi[l]\n"
   ]
  },
  {
   "cell_type": "markdown",
   "metadata": {},
   "source": [
    "Plot grid and immersed boundary"
   ]
  },
  {
   "cell_type": "code",
   "execution_count": null,
   "metadata": {
    "collapsed": true
   },
   "outputs": [],
   "source": [
    "plt.figure(figsize=(8,8))\n",
    "X, Y = np.meshgrid(x, y)\n",
    "plt.plot(X, Y, 'b-');\n",
    "plt.plot(X.T, Y.T, 'b-');\n",
    "plt.plot(xi[:l], eta[:l], 'ro-');\n",
    "plt.plot(xi[l:], eta[l:], 'go-');\n",
    "plt.axis('equal')"
   ]
  },
  {
   "cell_type": "markdown",
   "metadata": {},
   "source": [
    "Boundary conditions + initial flow"
   ]
  },
  {
   "cell_type": "code",
   "execution_count": 6,
   "metadata": {
    "collapsed": true
   },
   "outputs": [],
   "source": [
    "uS, uN = np.ones(m-1), np.ones(m-1)\n",
    "uE, uW = np.ones(n), np.ones(n)\n",
    "\n",
    "vS, vN = np.zeros(m), np.zeros(m)\n",
    "vE, vW = np.zeros(n-1), np.zeros(n-1)\n",
    "\n",
    "u[:,:]=1\n",
    "v[:,:]=0"
   ]
  },
  {
   "cell_type": "markdown",
   "metadata": {},
   "source": [
    "Build matrices (I)"
   ]
  },
  {
   "cell_type": "code",
   "execution_count": 7,
   "metadata": {
    "collapsed": false
   },
   "outputs": [],
   "source": [
    "G, DuW, DuE, DvS, DvN = gradient(dxp, dyp)\n",
    "R, iR = weight (dx, dy)\n",
    "Mh, iMh = mass_hat (dxp, dyp)\n",
    "Lh, Lux0, Lux1, Luy0, Luy1, Lvx0, Lvx1, Lvy0, Lvy1 = laplacian_hat(dx, dy, dxp, dyp)\n",
    "\n",
    "L = Mh.dot(Lh.dot(iR))\n",
    "\n",
    "M = Mh.dot(iR)\n",
    "iM = R.dot(iMh)\n",
    "\n",
    "iML = iM.dot(L)"
   ]
  },
  {
   "cell_type": "code",
   "execution_count": null,
   "metadata": {
    "collapsed": true
   },
   "outputs": [],
   "source": [
    "# Reynlods number\n",
    "iRe = 1/200.0\n",
    "\n",
    "# Time step\n",
    "dt = 0.30 * min(dxmin**2/iRe, dxmin)\n",
    "\n",
    "print(dt, dxmin**2/iRe, dxmin)"
   ]
  },
  {
   "cell_type": "markdown",
   "metadata": {
    "collapsed": true
   },
   "source": [
    "Build matrices (II)"
   ]
  },
  {
   "cell_type": "code",
   "execution_count": 9,
   "metadata": {
    "collapsed": false
   },
   "outputs": [],
   "source": [
    "A = (M/dt - 0.5*iRe*L).tocsr()\n",
    "B = (M/dt + 0.5*iRe*L).tocsr()\n",
    "\n",
    "BN = dt*iM + (0.5*iRe)*dt**2*iML.dot(iM) + (0.5*iRe)**2*dt**3*iML.dot(iML.dot(iM))\n"
   ]
  },
  {
   "cell_type": "code",
   "execution_count": 10,
   "metadata": {
    "collapsed": true
   },
   "outputs": [],
   "source": [
    "# Velocity flux\n",
    "q = np.loadtxt('q-Re=200')\n",
    "qast = q.copy()\n",
    "\n",
    "UBast = UB.copy()\n",
    "\n",
    "Num1, Nvm1 = advection_hat(dx, dy, dxp, dyp, iR.dot(q),  uS, uN, uW, uE, vS, vN, vW, vE)\n",
    "Nu, Nv = Num1, Nvm1\n",
    "\n",
    "GTBNG = G.T.dot(BN.dot(G))"
   ]
  },
  {
   "cell_type": "markdown",
   "metadata": {},
   "source": [
    " Dimensionless parameters"
   ]
  },
  {
   "cell_type": "code",
   "execution_count": null,
   "metadata": {
    "collapsed": true
   },
   "outputs": [],
   "source": [
    "# Density ratios\n",
    "rho1 = 300 \n",
    "rho2 = 300\n",
    "# Volume\n",
    "Vs = np.pi/4\n",
    "# Spring constants\n",
    "K1 = 1.57\n",
    "K2 = 1.57"
   ]
  },
  {
   "cell_type": "markdown",
   "metadata": {},
   "source": [
    "Build matrices (III)"
   ]
  },
  {
   "cell_type": "code",
   "execution_count": 11,
   "metadata": {
    "collapsed": true
   },
   "outputs": [],
   "source": [
    "IB = np.zeros((4,4))\n",
    "IB[0,0]= Vs*rho1/dt\n",
    "IB[1,1]=Vs*rho1/dt\n",
    "IB[2,2]=Vs*rho2/dt\n",
    "IB[3,3]=Vs*rho2/dt\n",
    "\n",
    "iIB = np.zeros((4,4))\n",
    "iIB[0,0]=dt/(Vs*rho1)\n",
    "iIB[1,1]=dt/(Vs*rho1)\n",
    "iIB[2,2]=dt/(Vs*rho2)\n",
    "iIB[3,3]=dt/(Vs*rho2)\n",
    "\n",
    "NB = - np.ones((4,4*l))\n",
    "NB[0,:]= 0\n",
    "NB[2,:]= 0\n",
    "NB[1,:l]=np.zeros(l)\n",
    "NB[1,2*l:4*l]= np.zeros(2*l)\n",
    "NB[3,:3*l]=np.zeros(3*l)"
   ]
  },
  {
   "cell_type": "markdown",
   "metadata": {},
   "source": [
    "Time loop"
   ]
  },
  {
   "cell_type": "code",
   "execution_count": null,
   "metadata": {
    "collapsed": true
   },
   "outputs": [],
   "source": [
    "nt = int(50/dt)\n",
    "print(\"Performing\", nt, \"steps\")\n",
    "\n",
    "residuals = np.zeros(nt)\n",
    "\n",
    "# Aerodynamic coefficients for both cylinders\n",
    "CFx1 = np.zeros(nt)\n",
    "CFy1 = np.zeros(nt)\n",
    "CFx2 = np.zeros(nt)\n",
    "CFy2 = np.zeros(nt)\n",
    "\n",
    "# Velocity and position of the front cylinder\n",
    "Vc1 = np.zeros(nt)\n",
    "Yc1 = np.zeros(nt)\n",
    "\n",
    "# Velocity and position of the rear cylinder\n",
    "Vc2 = np.zeros(nt)\n",
    "Yc2 = np.zeros(nt)\n",
    "\n",
    "for k in range(nt):  \n",
    "    \n",
    "    # Computing regularization and interpolation operators\n",
    "    Eh = interpolation_hat(xi, eta, ds, x, y, xp, yp, dx, dy, dxp, dyp)\n",
    "    Hh = regularization_hat(xi, eta, ds, x, y, xp, yp, dx, dy, dxp, dyp)\n",
    "\n",
    "    E = Eh.dot(iR)\n",
    "    H = Mh.dot(Hh)\n",
    "    \n",
    "    dQ = (Vs/dt)*(UB-UBm1)\n",
    "    \n",
    "    UBast[0]= UB[0]\n",
    "    UBast[1]= UB[1]+dt/(rho1*Vs)*dQ[1]-dt*K1*XB[1]\n",
    "    UBast[2]= UB[2]\n",
    "    UBast[3]= UB[3]+dt/(rho2*Vs)*dQ[3]-dt*K2*XB[3]\n",
    "    \n",
    "    ru = iRe*(Lux0.dot(uW) + Lux1.dot(uE) + Luy0.dot(uS) + Luy1.dot(uN)) - 1.5*Nu + 0.5*Num1\n",
    "    rv = iRe*(Lvx0.dot(vW) + Lvx1.dot(vE) + Lvy0.dot(vS) + Lvy1.dot(vN)) - 1.5*Nv + 0.5*Nvm1 #-g \n",
    "    \n",
    "    bc1 = Mh.dot(np.concatenate([ru, rv]))\n",
    "    r1 = B.dot(q.ravel()) + bc1\n",
    "   \n",
    "    # Resloving the first linear equation\n",
    "    mls = smoothed_aggregation_solver(A)\n",
    "    accelerated_residuals = []\n",
    "    qast= mls.solve( r1, tol=1e-8, accel='cg', residuals=accelerated_residuals)\n",
    "    \n",
    "    bc2 = - (DuW.dot(uW*dy) + DuE.dot(uE*dy) + DvS.dot(vS*dx) + DvN.dot(vN*dx))\n",
    "    \n",
    "    GTBNET = G.T.dot(BN.dot(E.T))\n",
    "    EBNG = E.dot(BN.dot(G))\n",
    "    X = E.dot(BN.dot(E.T)) + NB.T.dot(iIB.dot(NB))\n",
    "    \n",
    "    \n",
    "    e = spa.hstack((GTBNG,GTBNET))\n",
    "    j = spa.hstack((EBNG,X))\n",
    "    Q = spa.vstack((e,j)).tocsr()\n",
    "    \n",
    "    a = np.concatenate((G.T.dot(qast.ravel())+bc2, E.dot(qast.ravel())+ NB.T.dot(UBast)))\n",
    "    \n",
    "    # Resolving the second linear equation\n",
    "    mls1 = smoothed_aggregation_solver(Q)\n",
    "    accelerated_residuals = []\n",
    "    λ = mls1.solve(a, tol=1e-8, accel='cg', residuals=accelerated_residuals)\n",
    "    \n",
    "    # Projection step\n",
    "    qp1 = qast - BN.dot(G.dot(λ[:n*m])) - BN.dot(E.T.dot(λ[n*m:]))\n",
    "    UB1 = UBast - iIB.dot(NB.dot(λ[n*m:]))\n",
    "    \n",
    "    residuals[k] = la.norm(qp1-q)/(la.norm(dt*qp1)) \n",
    "    \n",
    "    CFx1[k]=2*np.sum(λ[n*m:n*m+l])\n",
    "    CFx2[k]=2*np.sum(λ[n*m+l:n*m+2*l])\n",
    "    CFy1[k]=2*np.sum(λ[n*m+2*l:n*m+3*l])\n",
    "    CFy2[k]=2*np.sum(λ[n*m+3*l:n*m+4*l])\n",
    "    \n",
    "    # Updating coordinates\n",
    "    eta[:l] = eta[:l] + UB1[1]*dt\n",
    "    eta[l:] = eta[l:] + UB1[3]*dt\n",
    "    XB[1]= XB[1]+ UB1[1]*dt\n",
    "    XB[3]= XB[3]+ UB1[3]*dt\n",
    "    \n",
    "    # Storage of the position and velocity of the front cylinder\n",
    "    Yc1[k]= XB[1]\n",
    "    Vc1[k]= UB[1]\n",
    "    \n",
    "    # Storage of the position and velocity of the rear cylinder\n",
    "    Yc2[k]= XB[3]\n",
    "    Vc2[k]= UB[3]\n",
    "    \n",
    "    \n",
    "    if k%100==0:\n",
    "        print(k, k*dt, residuals[k], CFy1[k],CFy2[k], XB[1], UB[1], XB[3], UB[3])\n",
    "    \n",
    "    q = qp1.copy()\n",
    "    UBm1 = UB.copy()\n",
    "    UB = UB1.copy()\n",
    "    \n",
    "    # Free exit condition \n",
    "    uE = uE - dt/dx[-1]*(uE - iR.dot(q)[:n*(m-1)].reshape((n, m-1))[:,-1])\n",
    "    \n",
    "    Num1, Nvm1 = Nu, Nv\n",
    "    Nu, Nv = advection_hat(dx, dy, dxp, dyp, iR.dot(q), uS, uN, uW, uE, vS, vN, vW, vE)\n",
    "    "
   ]
  },
  {
   "cell_type": "markdown",
   "metadata": {},
   "source": [
    "Velocity and pressure"
   ]
  },
  {
   "cell_type": "code",
   "execution_count": null,
   "metadata": {
    "collapsed": false
   },
   "outputs": [],
   "source": [
    "iRq = iR.dot(q)\n",
    "u, v = iRq[:n*(m-1)].reshape((n, m-1)), iRq[n*(m-1):].reshape((n-1, m))\n",
    "p = λ[:n*m].reshape((n,m))"
   ]
  },
  {
   "cell_type": "markdown",
   "metadata": {},
   "source": [
    "Display solution"
   ]
  },
  {
   "cell_type": "code",
   "execution_count": null,
   "metadata": {
    "collapsed": false
   },
   "outputs": [],
   "source": [
    "# Ploting velocity\n",
    "x0, x1 = -2, 7\n",
    "y0, y1 = -4.5, 4.5\n",
    "plt.figure(figsize=(5.5*3,4))\n",
    "plt.subplot(1,3,1)\n",
    "plt.pcolormesh(xu, yu, u, shading='gouraud')\n",
    "plt.plot(xi, eta, lw=1)\n",
    "plt.xlim(x0, x1)\n",
    "plt.ylim(y0, y1)\n",
    "plt.colorbar()\n",
    "\n",
    "plt.subplot(1,3,2)\n",
    "plt.pcolormesh(xv, yv, v, shading='gouraud')\n",
    "plt.plot(xi, eta, lw=1)\n",
    "plt.xlim(x0, x1)\n",
    "plt.ylim(y0, y1)\n",
    "plt.colorbar()\n",
    "\n",
    "# Ploting pressure\n",
    "plt.subplot(1,3,3)\n",
    "plt.pcolormesh(xp, yp, p, shading='gouraud')\n",
    "plt.plot(xi, eta, lw=1)\n",
    "plt.xlim(x0, x1)\n",
    "plt.ylim(y0, y1)\n",
    "plt.colorbar()"
   ]
  },
  {
   "cell_type": "code",
   "execution_count": null,
   "metadata": {
    "collapsed": false
   },
   "outputs": [],
   "source": [
    "# Ploting aerodynamic coefficients\n",
    "plt.plot(np.arange(len(CFx1))*dt, CFx1, label='Cd1')\n",
    "plt.plot(np.arange(len(CFx2))*dt, CFx2,'r',label='Cd2')\n",
    "plt.plot(np.arange(len(CFy1))*dt, CFy1,'g', label='Cl1')\n",
    "plt.plot(np.arange(len(CFy2))*dt, CFy2,'k',label='Cl2')\n",
    "plt.xlim(0, 50)\n",
    "plt.ylim(-0.8,5)\n",
    "plt.xlabel('t')\n",
    "plt.ylabel('Aerodynamic coefficients')\n",
    "plt.legend()"
   ]
  },
  {
   "cell_type": "code",
   "execution_count": null,
   "metadata": {
    "collapsed": false
   },
   "outputs": [],
   "source": [
    "# Ploting the velocity of both cylinders\n",
    "plt.plot(np.arange(len(CFy1))*dt, Vc1, 'r-', label='Front cylinder')\n",
    "plt.plot(np.arange(len(CFy1))*dt, Vc2, 'b-', label='Rear cylinder')\n",
    "plt.xlim(0,50)\n",
    "plt.ylim(-0.01,0.01)\n",
    "plt.xlabel('t')\n",
    "plt.ylabel('Vc')\n",
    "plt.legend()"
   ]
  },
  {
   "cell_type": "code",
   "execution_count": null,
   "metadata": {
    "collapsed": true
   },
   "outputs": [],
   "source": [
    "# Ploting the position of both cylinders\n",
    "plt.plot(np.arange(len(CFy1))*dt, Yc1, 'r-', label='Front cylinder')\n",
    "plt.plot(np.arange(len(CFy1))*dt, Yc2, 'b-', label='Rear cylinder')\n",
    "plt.xlim(0,50)\n",
    "plt.ylim(-0.01,0.01)\n",
    "plt.xlabel('t')\n",
    "plt.ylabel('Yc')\n",
    "plt.legend()"
   ]
  }
 ],
 "metadata": {
  "kernelspec": {
   "display_name": "Python 3",
   "language": "python",
   "name": "python3"
  },
  "language_info": {
   "codemirror_mode": {
    "name": "ipython",
    "version": 3
   },
   "file_extension": ".py",
   "mimetype": "text/x-python",
   "name": "python",
   "nbconvert_exporter": "python",
   "pygments_lexer": "ipython3",
   "version": "3.5.1"
  }
 },
 "nbformat": 4,
 "nbformat_minor": 0
}
