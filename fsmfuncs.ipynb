{
 "cells": [
  {
   "cell_type": "code",
   "execution_count": 1,
   "metadata": {
    "collapsed": false
   },
   "outputs": [
    {
     "name": "stdout",
     "output_type": "stream",
     "text": [
      "Populating the interactive namespace from numpy and matplotlib\n"
     ]
    }
   ],
   "source": [
    "import numpy as np\n",
    "import scipy.sparse as sp"
   ]
  },
  {
   "cell_type": "markdown",
   "metadata": {},
   "source": [
    "Gradient operators"
   ]
  },
  {
   "cell_type": "code",
   "execution_count": 3,
   "metadata": {
    "collapsed": false
   },
   "outputs": [],
   "source": [
    "# TODO: Change to gradient_hat\n",
    "def gradient (dxp, dyp):\n",
    "    n, m = len(dyp)+1, len(dxp)+1\n",
    "    \n",
    "    G = sp.vstack([ sp.kron(sp.eye(n), sp.diags([-1, 1], [0, 1], (m-1, m) )), \\\n",
    "                sp.kron(sp.diags([-1, 1], [0, 1], (n-1, n) ), sp.eye(m))])\n",
    "\n",
    "    DuW = sp.kron(sp.eye(n), sp.diags(-1, 0, (m, 1)))\n",
    "    DuE = sp.kron(sp.eye(n), sp.diags(1, -m+1, (m, 1)))\n",
    "\n",
    "    DvS = sp.kron(sp.diags(-1, 0, (n, 1)), sp.eye(m))\n",
    "    DvN = sp.kron(sp.diags(1, -n+1, (n, 1)), sp.eye(m))\n",
    "    \n",
    "    return G, DuW, DuE, DvS, DvN"
   ]
  },
  {
   "cell_type": "markdown",
   "metadata": {},
   "source": [
    "Laplacian"
   ]
  },
  {
   "cell_type": "code",
   "execution_count": 4,
   "metadata": {
    "collapsed": false
   },
   "outputs": [],
   "source": [
    "def laplacian_hat (dx, dy, dxp, dyp):\n",
    "    n, m = len(dy), len(dx)\n",
    "    \n",
    "    # First u\n",
    "    gux = sp.diags([-1/dx, 1/dx], [0, 1], (m, m+1))\n",
    "    guxx = sp.diags([-1/dxp, 1/dxp], [0, 1], (m-1, m)).dot(gux)\n",
    "    Lux = sp.kron(sp.eye(n), guxx.dot(sp.diags(1, -1, (m+1, m-1))))\n",
    "    Lux0 = sp.kron(sp.eye(n), guxx.dot(sp.diags(1, 0, (m+1, 1))))\n",
    "    Lux1 = sp.kron(sp.eye(n), guxx.dot(sp.diags(1, -m, (m+1, 1))))\n",
    "\n",
    "    dyp_ = np.concatenate([0.5*dy[:1], dyp, 0.5*dy[-1:]])\n",
    "    guy = sp.diags([-1/dyp_, 1/dyp_], [0, 1], (n+1, n+2))\n",
    "    dy_ = np.concatenate([0.75*dy[:1], dy[1:-1], 0.75*dy[-1:]])\n",
    "    guyy = sp.diags([-1/dy_, 1/dy_], [0, 1], (n, n+1)).dot(guy)\n",
    "\n",
    "    Luy = sp.kron(guyy.dot(sp.diags(1, -1, (n+2, n))), sp.eye(m-1))\n",
    "    Luy0 = sp.kron(guyy.dot(sp.diags(1, 0, (n+2, 1))), sp.eye(m-1))\n",
    "    Luy1 = sp.kron(guyy.dot(sp.diags(1, -(n+1), (n+2, 1))), sp.eye(m-1))\n",
    "\n",
    "    Lu = Lux + Luy\n",
    "    \n",
    "    # Then v\n",
    "    gvy = sp.diags([-1/dy, 1/dy], [0, 1], (n, n+1))\n",
    "    gvyy = sp.diags([-1/dyp, 1/dyp], [0, 1], (n-1, n)).dot(gvy)\n",
    "    Lvy = sp.kron(gvyy.dot(sp.diags(1, -1, (n+1, n-1))), sp.eye(m))\n",
    "    Lvy0 = sp.kron(gvyy.dot(sp.diags(1, 0, (n+1, 1))), sp.eye(m))\n",
    "    Lvy1 = sp.kron(gvyy.dot(sp.diags(1, -n, (n+1, 1))), sp.eye(m))\n",
    "\n",
    "    dxp_ = np.concatenate([0.5*dx[:1], dxp, 0.5*dx[-1:]])\n",
    "    gvx = sp.diags([-1/dxp_, 1/dxp_], [0, 1], (m+1, m+2))\n",
    "    dx_ = np.concatenate([0.75*dx[:1], dx[1:-1], 0.75*dx[-1:]])\n",
    "    gvxx = sp.diags([-1/dx_, 1/dx_], [0, 1], (m, m+1)).dot(gvx)\n",
    "\n",
    "    Lvx = sp.kron(sp.eye(n-1), gvxx.dot(sp.diags(1, -1, (m+2, m))))\n",
    "    Lvx0 = sp.kron(sp.eye(n-1), gvxx.dot(sp.diags(1, 0, (m+2, 1))))\n",
    "    Lvx1 = sp.kron(sp.eye(n-1), gvxx.dot(sp.diags(1, -(m+1), (m+2, 1))))\n",
    "\n",
    "    Lv = Lvx + Lvy\n",
    "    \n",
    "    L = sp.block_diag([Lu, Lv])\n",
    "\n",
    "    return L, Lux0, Lux1, Luy0, Luy1, Lvx0, Lvx1, Lvy0, Lvy1"
   ]
  },
  {
   "cell_type": "markdown",
   "metadata": {},
   "source": [
    "Weight matrices"
   ]
  },
  {
   "cell_type": "code",
   "execution_count": 5,
   "metadata": {
    "collapsed": false
   },
   "outputs": [],
   "source": [
    "def weight (dx, dy):\n",
    "    n, m = len(dy), len(dx)\n",
    "    \n",
    "    R = sp.block_diag([sp.kron(sp.diags(dy, 0), sp.eye(m-1)), \\\n",
    "                       sp.kron(sp.eye(n-1), sp.diags(dx, 0))])\n",
    "    iR = sp.block_diag([sp.kron(sp.diags(1/dy, 0), sp.eye(m-1)), \\\n",
    "                       sp.kron(sp.eye(n-1), sp.diags(1/dx, 0))])\n",
    "    \n",
    "    return R, iR\n"
   ]
  },
  {
   "cell_type": "markdown",
   "metadata": {},
   "source": [
    "Mass matrix"
   ]
  },
  {
   "cell_type": "code",
   "execution_count": null,
   "metadata": {
    "collapsed": true
   },
   "outputs": [],
   "source": [
    "def mass_hat (dxp, dyp):\n",
    "    n, m = len(dyp)+1, len(dxp)+1\n",
    "    Iy = np.concatenate([[0.75,], np.ones(n-2), [0.75,]])\n",
    "    Ix = np.concatenate([[0.75,], np.ones(m-2), [0.75,]])\n",
    "\n",
    "    Mh = sp.block_diag([sp.kron(sp.diags(Iy, 0), sp.diags(dxp, 0)), \\\n",
    "                       sp.kron(sp.diags(dyp, 0), sp.diags(Ix, 0))])\n",
    "    iMh = sp.block_diag([sp.kron(sp.diags(1/Iy, 0), sp.diags(1/dxp, 0)), \\\n",
    "                       sp.kron(sp.diags(1/dyp, 0), sp.diags(1/Ix, 0))])\n",
    "    \n",
    "    return Mh, iMh"
   ]
  },
  {
   "cell_type": "markdown",
   "metadata": {},
   "source": [
    "Advection"
   ]
  },
  {
   "cell_type": "code",
   "execution_count": 1,
   "metadata": {
    "collapsed": true
   },
   "outputs": [],
   "source": [
    "def advection_hat(dx, dy, dxp, dyp, iRq, uS, uN, uW, uE, vS, vN, vW, vE):\n",
    "    n, m = len(dy), len(dx)\n",
    "    \n",
    "    u = iRq[:n*(m-1)].reshape((n, m-1))\n",
    "    v = iRq[n*(m-1):].reshape((n-1, m))\n",
    "    \n",
    "    Nu = np.zeros_like(u)\n",
    "    Nv = np.zeros_like(v)\n",
    "    \n",
    "    u2 = u**2\n",
    "    u2c = np.zeros((n, m))\n",
    "    u2c[:,0]=0.5*(uW**2+u2[:,0])\n",
    "    u2c[:,1:-1]=0.5*(u2[:,1:]+u2[:,:-1])\n",
    "    u2c[:,-1]=0.5*(uE**2+u2[:,-1])\n",
    "    \n",
    "    Nu = np.diff(u2c, axis=1)/dxp\n",
    "    \n",
    "    v2 = v**2\n",
    "    v2c = np.zeros((n, m))\n",
    "    v2c[0,:]=0.5*(vS**2+v2[0,:])\n",
    "    v2c[1:-1,:]=0.5*(v2[1:,:]+v2[:-1,:])\n",
    "    v2c[-1,:]=0.5*(vN**2+v2[-1,:])\n",
    "    \n",
    "    Nv = np.diff(v2c, axis=0)/dyp[:,np.newaxis]\n",
    "    \n",
    "    uv = 0.25*(u[1:,:] + u[:-1,:])*(v[:,1:] + v[:,:-1])\n",
    "    uvS = 0.5*uS*(vS[1:]+vS[:-1])\n",
    "    uvN = 0.5*uN*(vN[1:]+vN[:-1])\n",
    "    \n",
    "    uvW = 0.5*vW*(uW[1:]+uW[:-1])\n",
    "    uvE = 0.5*vE*(uE[1:]+uE[:-1])\n",
    "    \n",
    "    Nu += np.diff(np.vstack([uvS, uv, uvN]), axis=0)/dy[:,np.newaxis]\n",
    "    Nv += np.diff(np.hstack([uvW[:,np.newaxis], uv, uvE[:,np.newaxis]]), axis=1)/dx\n",
    "    \n",
    "    return Nu.ravel(), Nv.ravel()"
   ]
  },
  {
   "cell_type": "code",
   "execution_count": null,
   "metadata": {
    "collapsed": true
   },
   "outputs": [],
   "source": []
  }
 ],
 "metadata": {
  "kernelspec": {
   "display_name": "Python 3",
   "language": "python",
   "name": "python3"
  },
  "language_info": {
   "codemirror_mode": {
    "name": "ipython",
    "version": 3
   },
   "file_extension": ".py",
   "mimetype": "text/x-python",
   "name": "python",
   "nbconvert_exporter": "python",
   "pygments_lexer": "ipython3",
   "version": "3.5.1"
  }
 },
 "nbformat": 4,
 "nbformat_minor": 0
}
